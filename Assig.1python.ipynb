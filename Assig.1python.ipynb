{
 "cells": [
  {
   "cell_type": "markdown",
   "id": "70c3978e-1e55-406c-a676-586f69963f93",
   "metadata": {},
   "source": [
    "Q1. Create one variable containing following type of data:\n",
    "(i) string\n",
    "(ii) list\n",
    "(iii) float\n",
    "(iv) tuple"
   ]
  },
  {
   "cell_type": "code",
   "execution_count": 1,
   "id": "3b3862d1-3606-4c63-a642-0f98e7fecc93",
   "metadata": {},
   "outputs": [],
   "source": [
    "a=\"Ankit\"               #string\n",
    "b=[2,3,\"Radha\",True]    #list\n",
    "c=2.5                   #float\n",
    "d=(1,2,3,4)             #tuple"
   ]
  },
  {
   "cell_type": "markdown",
   "id": "1a7fe295-ef41-453d-98b4-3e30cb0b3065",
   "metadata": {},
   "source": [
    "Q2. Given are some following variables containing data:\n",
    "(i) var1 = ‘ ‘\n",
    "(ii) var2 = ‘[ DS , ML , Python]’\n",
    "(iii) var3 = [ ‘DS’ , ’ML’ , ‘Python’ ]\n",
    "(iv) var4 = 1.\n",
    "What will be the data type of the above given variable."
   ]
  },
  {
   "cell_type": "code",
   "execution_count": 6,
   "id": "d8389bb4-2699-43e7-8e54-d0f9e2c7dbc2",
   "metadata": {},
   "outputs": [
    {
     "name": "stdout",
     "output_type": "stream",
     "text": [
      "<class 'str'>\n",
      "<class 'str'>\n",
      "<class 'list'>\n",
      "<class 'int'>\n"
     ]
    }
   ],
   "source": [
    "var1 = ' '\n",
    "var2 = '[ DS , ML , Python]'\n",
    "var3 = [ 'DS' , 'ML' , 'Python' ]\n",
    "var4 = 1\n",
    "\n",
    "print(type(var1))\n",
    "print(type(var2))\n",
    "print(type(var3))\n",
    "print(type(var4))"
   ]
  },
  {
   "cell_type": "markdown",
   "id": "1380a797-2665-4cd2-9885-c4b1218bcecb",
   "metadata": {},
   "source": [
    "Q3. Explain the use of the following operators using an example:\n",
    "(i) /\n",
    "(ii) %\n",
    "(iii) //\n",
    "(iv) **"
   ]
  },
  {
   "cell_type": "code",
   "execution_count": 7,
   "id": "5e9cc975-07b4-4c4b-83d4-f3dff69a28a7",
   "metadata": {},
   "outputs": [
    {
     "name": "stdout",
     "output_type": "stream",
     "text": [
      "2.5\n",
      "1\n",
      "2\n",
      "25\n"
     ]
    }
   ],
   "source": [
    "# / is used for division which result as float\n",
    "print(5/2)\n",
    "\n",
    "# % is modulus whiose output is remainder.\n",
    "print(5%2)\n",
    "\n",
    "# // is floor division whose output is Quotient.\n",
    "print(5//2)\n",
    "\n",
    "# ** is perform work of exponent.\n",
    "print(5**2)"
   ]
  },
  {
   "cell_type": "markdown",
   "id": "bc33de92-875e-44cf-bc6f-facf62fbda54",
   "metadata": {},
   "source": [
    "Q4. Create a list of length 10 of your choice containing multiple types of data. Using for loop print the\n",
    "element and its data type."
   ]
  },
  {
   "cell_type": "code",
   "execution_count": 9,
   "id": "74cb54d4-1f55-4c1f-8396-63c0748da93c",
   "metadata": {},
   "outputs": [
    {
     "name": "stdout",
     "output_type": "stream",
     "text": [
      "2\n",
      "<class 'int'>\n",
      "3\n",
      "<class 'int'>\n",
      "Radha\n",
      "<class 'str'>\n",
      "Sita\n",
      "<class 'str'>\n",
      "True\n",
      "<class 'bool'>\n",
      "False\n",
      "<class 'bool'>\n",
      "2.4\n",
      "<class 'float'>\n",
      "4.5\n",
      "<class 'float'>\n",
      "0\n",
      "<class 'int'>\n",
      "5\n",
      "<class 'int'>\n"
     ]
    }
   ],
   "source": [
    "b=[2, 3, \"Radha\",\"Sita\", True, False, 2.4, 4.5, 0, 0b101]\n",
    "for i in b:\n",
    "    print(i)\n",
    "    print(type(i))"
   ]
  },
  {
   "cell_type": "markdown",
   "id": "ab84e68a-df6e-42dd-98b6-a9f5c585ab07",
   "metadata": {},
   "source": [
    "Q5. Using a while loop, verify if the number A is purely divisible by number B and if so then how many\n",
    "times it can be divisible."
   ]
  },
  {
   "cell_type": "code",
   "execution_count": 18,
   "id": "2f665ed9-2f16-4575-bb90-940fb764a684",
   "metadata": {},
   "outputs": [
    {
     "name": "stdin",
     "output_type": "stream",
     "text": [
      "Enter the quotient:  56\n",
      "Enter the divider:  2\n"
     ]
    },
    {
     "name": "stdout",
     "output_type": "stream",
     "text": [
      "7.0 is dividible by 2 and exactly 3 times\n"
     ]
    }
   ],
   "source": [
    "A=int(input(\"Enter the quotient: \"))\n",
    "B=int(input(\"Enter the divider: \"))\n",
    "\n",
    "i=0\n",
    "while A%B==0:\n",
    "    i = i+1\n",
    "    A = A/B\n",
    "    \n",
    "if i>0:\n",
    "    print(f\"{A} is dividible by {B} and exactly {i} times\")\n",
    "else:\n",
    "    print(f\"{A} is not dividible by {B}\")"
   ]
  },
  {
   "cell_type": "markdown",
   "id": "80332070-c661-4bea-916f-ba251a654727",
   "metadata": {},
   "source": [
    "Q6. Create a list containing 25 int type data. Using for loop and if-else condition print if the element is\n",
    "divisible by 3 or not."
   ]
  },
  {
   "cell_type": "code",
   "execution_count": 14,
   "id": "e70ed25d-92d3-4040-804f-f367adf92813",
   "metadata": {},
   "outputs": [
    {
     "name": "stdout",
     "output_type": "stream",
     "text": [
      "3\n",
      "6\n",
      "9\n",
      "12\n",
      "15\n",
      "18\n",
      "21\n",
      "24\n"
     ]
    }
   ],
   "source": [
    "a=[1,2,3,4,5,6,7,8,9,10,11,12,13,14,15,16,17,18,19,20,21,22,23,24,25]\n",
    "for i in a:\n",
    "    if i%3==0:\n",
    "        print(i)"
   ]
  },
  {
   "cell_type": "markdown",
   "id": "e0b259fa-b444-4a6d-9494-d4ea645abb09",
   "metadata": {},
   "source": [
    "Q7. What do you understand about mutable and immutable data types? Give examples for both showing\n",
    "this property."
   ]
  },
  {
   "cell_type": "code",
   "execution_count": 15,
   "id": "2db010da-b8b8-4309-993b-797bd7bdc07d",
   "metadata": {},
   "outputs": [
    {
     "name": "stdout",
     "output_type": "stream",
     "text": [
      "[2, 13, 'Radha', True]\n",
      "Ram\n"
     ]
    }
   ],
   "source": [
    "# Mutable means which can be change later. e.g. list\n",
    "a=[2,3,\"Radha\",True] \n",
    "a[1]=13              #1st index place changed by 13\n",
    "print(a)     \n",
    "\n",
    "# Unmutable means which is fixed. e.g.  Strings and tuples.\n",
    "print(\"Ram\")    "
   ]
  },
  {
   "cell_type": "code",
   "execution_count": null,
   "id": "be5efc1a-4860-47a6-94e8-616d578cc1f0",
   "metadata": {},
   "outputs": [],
   "source": []
  }
 ],
 "metadata": {
  "kernelspec": {
   "display_name": "Python 3 (ipykernel)",
   "language": "python",
   "name": "python3"
  },
  "language_info": {
   "codemirror_mode": {
    "name": "ipython",
    "version": 3
   },
   "file_extension": ".py",
   "mimetype": "text/x-python",
   "name": "python",
   "nbconvert_exporter": "python",
   "pygments_lexer": "ipython3",
   "version": "3.10.8"
  }
 },
 "nbformat": 4,
 "nbformat_minor": 5
}
